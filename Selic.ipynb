{
 "cells": [
  {
   "cell_type": "markdown",
   "metadata": {},
   "source": [
    "### SELIC Rate\n",
    "Hello, guys! The SELIC rate is the basic interest rate of the brazilian economy and is the defined by COPOM (Monetary Policy Committee).\n",
    "This notebook aims to present the variation of the SELIC rate over the last 22 years and discuss the reasons for this variation."
   ]
  },
  {
   "cell_type": "markdown",
   "metadata": {},
   "source": [
    "#### Loading Libraries"
   ]
  },
  {
   "cell_type": "code",
   "execution_count": 1,
   "metadata": {},
   "outputs": [],
   "source": [
    "import pandas as pd\n",
    "import datetime\n",
    "import seaborn as sns"
   ]
  },
  {
   "cell_type": "code",
   "execution_count": 2,
   "metadata": {},
   "outputs": [],
   "source": [
    "def consulta_BACEN(codigo_bacen, dataInicial=\"01/06/1986\", dataFinal = datetime.date.today().strftime(\"%d/%m/%Y\")):\n",
    "  url = 'https://api.bcb.gov.br/dados/serie/bcdata.sgs.{}/dados?formato=json&dataInicial={}&dataFinal={}'.format(codigo_bacen,dataInicial,dataFinal)\n",
    "  df = pd.read_json(url)\n",
    "  df['data'] = pd.to_datetime(df['data'], dayfirst=True)\n",
    "  df.rename(columns={'valor': 'Acumulado (%)', 'data': 'Período'}, inplace = True)\n",
    "  return df"
   ]
  }
 ],
 "metadata": {
  "kernelspec": {
   "display_name": "Python 3.10.8 64-bit",
   "language": "python",
   "name": "python3"
  },
  "language_info": {
   "codemirror_mode": {
    "name": "ipython",
    "version": 3
   },
   "file_extension": ".py",
   "mimetype": "text/x-python",
   "name": "python",
   "nbconvert_exporter": "python",
   "pygments_lexer": "ipython3",
   "version": "3.10.8"
  },
  "orig_nbformat": 4,
  "vscode": {
   "interpreter": {
    "hash": "dd135a0b55d0e91a327df61a65c040e972137a8792706089209f460970e12e99"
   }
  }
 },
 "nbformat": 4,
 "nbformat_minor": 2
}
